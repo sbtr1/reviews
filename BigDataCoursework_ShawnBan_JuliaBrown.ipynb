{
 "cells": [
  {
   "cell_type": "markdown",
   "metadata": {
    "collapsed": true,
    "deletable": true,
    "editable": true
   },
   "source": [
    "### 1. Data pre-processing\n",
    "\n",
    "Creates an RDD from a csv file of ~570,000 product reviews. Goal is to use binary classification to predict if the customer is satisfied or unsatisfied. \n",
    "\n",
    "We perform 3 experiments: (1) compare the Hashing function vs. Count Vectorizer in the ML Pipeline for different values of N; (2) assess if the extra accuracy from adding bigrams is worth the extra computational time; (3) evaluate the effect of different training set sizes on accuracy."
   ]
  },
  {
   "cell_type": "code",
   "execution_count": 1,
   "metadata": {
    "collapsed": false,
    "deletable": true,
    "editable": true
   },
   "outputs": [
    {
     "data": {
      "text/plain": [
       "['Id,ProductId,UserId,ProfileName,HelpfulnessNumerator,HelpfulnessDenominator,Score,Time,Summary,Text',\n",
       " '1,B001E4KFG0,A3SGXH7AUHU8GW,delmartian,1,1,5,1303862400,Good Quality Dog Food,I have bought several of the Vitality canned dog food products and have found them all to be of good quality. The product looks more like a stew than a processed meat and it smells better. My Labrador is finicky and she appreciates this product better than  most.']"
      ]
     },
     "execution_count": 1,
     "metadata": {},
     "output_type": "execute_result"
    }
   ],
   "source": [
    "dirPath = 'hdfs://saltdean/data/reviews/Reviews.csv'\n",
    "review_data = sc.textFile(dirPath)\n",
    "review_data.take(2)"
   ]
  },
  {
   "cell_type": "code",
   "execution_count": 2,
   "metadata": {
    "collapsed": false,
    "deletable": true,
    "editable": true
   },
   "outputs": [
    {
     "name": "stdout",
     "output_type": "stream",
     "text": [
      "568454\n",
      "565938\n"
     ]
    },
    {
     "data": {
      "text/plain": [
       "[('5',\n",
       "  'good quality dog food',\n",
       "  'i have bought several of the vitality canned dog food products and have found them all to be of good quality. the product looks more like a stew than a processed meat and it smells better. my labrador is finicky and she appreciates this product better than  most.')]"
      ]
     },
     "execution_count": 2,
     "metadata": {},
     "output_type": "execute_result"
    }
   ],
   "source": [
    "header = review_data.first() #Extract the header and drop it\n",
    "review_data= review_data.filter(lambda x: x != header) \n",
    "review_data = review_data.map(lambda l: l.split(\",\")) #Split the csv file\n",
    "review_data = review_data.map(lambda x: (x[6], x[8].lower(), x[9].lower())) #Keep score, summary and review\n",
    "print(review_data.count())\n",
    "labels = ['1', '2', '3', '4', '5'] #Filter out the nonsense values\n",
    "review_data = review_data.filter(lambda x: x[0] in labels)\n",
    "print(review_data.count())\n",
    "review_data.take(1)"
   ]
  },
  {
   "cell_type": "code",
   "execution_count": 3,
   "metadata": {
    "collapsed": true,
    "deletable": true,
    "editable": true
   },
   "outputs": [],
   "source": [
    "#Treat 4 and 5 as satisfied customers; 1, 2 and 3 as unsatisfied:\n",
    "def satisfied(x):\n",
    "    if x == '1' or x == '2' or x == '3':\n",
    "        return 'unsatisfied'\n",
    "    elif x == '4' or x == '5':\n",
    "        return 'satisfied'\n",
    "    else:\n",
    "        return 'error'\n",
    "    \n",
    "review_data = review_data.map(lambda x: (satisfied(x[0]), x[1], x[2]))"
   ]
  },
  {
   "cell_type": "code",
   "execution_count": 4,
   "metadata": {
    "collapsed": false,
    "deletable": true,
    "editable": true
   },
   "outputs": [
    {
     "name": "stdout",
     "output_type": "stream",
     "text": [
      "[nltk_data] Downloading package punkt to\n",
      "[nltk_data]     /home/enterprise.internal.city.ac.uk/acvn474/nltk_data\n",
      "[nltk_data]     ...\n",
      "[nltk_data]   Package punkt is already up-to-date!\n"
     ]
    }
   ],
   "source": [
    "import nltk\n",
    "import re\n",
    "from nltk.corpus import stopwords\n",
    "nltk.download('punkt') # this loads the standard NLTK tokenizer model\n",
    "\n",
    "def tokenize(data): # Tokenize, remove punctuation\n",
    "    \"\"\" Apply the nltk.word_tokenize() method to our text, return the token list. \"\"\"\n",
    "    tokens = data.map(lambda x: (x[0], nltk.word_tokenize(x[1]), nltk.word_tokenize(x[2])))\n",
    "    tokens = tokens.map(lambda x:(x[0], [re.sub('[^A-Za-z0-9]','',s) for s in x[1]], [re.sub('[^A-Za-z0-9]','',s) for s in x[2]]))\n",
    "    tokens = tokens.map(lambda x: (x[0],[s for s in x[1] if len(s) > 0],[s for s in x[2] if len(s) > 0])) \n",
    "    return tokens \n",
    "\n",
    "review_data = tokenize(review_data)\n",
    "review_data = review_data.map(lambda x: (x[0], x[1]+x[2])) #merge the summary and review columns"
   ]
  },
  {
   "cell_type": "code",
   "execution_count": 14,
   "metadata": {
    "collapsed": true,
    "deletable": true,
    "editable": true
   },
   "outputs": [],
   "source": [
    "review_data_small = sc.parallelize(review_data.take(10000)) #Make a subset to ensure everything runs smoothly."
   ]
  },
  {
   "cell_type": "markdown",
   "metadata": {
    "deletable": true,
    "editable": true
   },
   "source": [
    "### 2. Create a Spark DataFrame to run the ML pipeline"
   ]
  },
  {
   "cell_type": "code",
   "execution_count": 5,
   "metadata": {
    "collapsed": false,
    "deletable": true,
    "editable": true
   },
   "outputs": [
    {
     "name": "stdout",
     "output_type": "stream",
     "text": [
      "root\n",
      " |-- score: string (nullable = true)\n",
      " |-- text: array (nullable = true)\n",
      " |    |-- element: string (containsNull = true)\n",
      "\n",
      "SELECT * FROM temp_reviews WHERE score == 'satisfied'\n",
      "+---------+--------------------+\n",
      "|    score|                text|\n",
      "+---------+--------------------+\n",
      "|satisfied|[good, quality, d...|\n",
      "|satisfied|[delight, says, i...|\n",
      "|satisfied|[great, taffy, gr...|\n",
      "|satisfied|[nice, taffy, i, ...|\n",
      "|satisfied|[great, just, as,...|\n",
      "+---------+--------------------+\n",
      "only showing top 5 rows\n",
      "\n",
      "SELECT * FROM temp_reviews WHERE score == 'unsatisfied'\n",
      "+-----------+--------------------+\n",
      "|      score|                text|\n",
      "+-----------+--------------------+\n",
      "|unsatisfied|[not, as, adverti...|\n",
      "|unsatisfied|[cough, medicine,...|\n",
      "|unsatisfied|[my, cats, are, n...|\n",
      "|unsatisfied|[poor, taste, i, ...|\n",
      "|unsatisfied|[nasty, no, flavo...|\n",
      "+-----------+--------------------+\n",
      "only showing top 5 rows\n",
      "\n"
     ]
    }
   ],
   "source": [
    "from pyspark.sql import Row\n",
    "from pyspark.sql import SparkSession \n",
    "from pyspark.sql.types import DoubleType\n",
    "import itertools\n",
    "\n",
    "row_RDD = review_data.map(lambda x: Row(text=x[1], score=(x[0])))\n",
    "\n",
    "spark = SparkSession.builder.appName(\"PythonSQL\").config(\"spark.some.config.option\", \"some-value\").getOrCreate()\n",
    "\n",
    "#Create a dataFrame from the RDD:\n",
    "df = spark.createDataFrame(row_RDD) # create the data frame, like in the lecture\n",
    "#df = df.withColumn(\"label\", df.score.cast(\"double\"))\n",
    "\n",
    "#Make a temp view to run SQL commands:\n",
    "df.createOrReplaceTempView(\"temp_reviews\") \n",
    "df.printSchema() # print the schema\n",
    "\n",
    "SQL1 = \"SELECT * FROM temp_reviews WHERE score == 'satisfied'\"\n",
    "score_satisfied = spark.sql(SQL1)\n",
    "print(SQL1)\n",
    "score_satisfied.show(5)\n",
    "\n",
    "SQL3 = \"SELECT * FROM temp_reviews WHERE score == 'unsatisfied'\"\n",
    "score_unsatisfied = spark.sql(SQL3)\n",
    "print(SQL3)\n",
    "score_unsatisfied.show(5)"
   ]
  },
  {
   "cell_type": "code",
   "execution_count": 6,
   "metadata": {
    "collapsed": false,
    "deletable": true,
    "editable": true
   },
   "outputs": [],
   "source": [
    "# Split the data into training and test sets from the dataframe using randomSplit \n",
    "# The training data will be divided again later for training/validation\n",
    "# Create 3 training sets: 60%, 20%, 10%, and keep 15% for testing\n",
    "\n",
    "#train1, test = df.randomSplit([0.8, 0.2], 20) # Split the data randomly, using 20 as the random seed to ensure reproducibility\n",
    "train1, train2, train3, train4, train5, test = df.randomSplit([0.7, 0.07, 0.02, 0.009, 0.001, 0.2], 20)"
   ]
  },
  {
   "cell_type": "code",
   "execution_count": 18,
   "metadata": {
    "collapsed": false,
    "deletable": true,
    "editable": true
   },
   "outputs": [
    {
     "name": "stdout",
     "output_type": "stream",
     "text": [
      "Size of training set:  396137\n",
      "Size of training set 2:  39434\n",
      "Size of training set 3:  11376\n",
      "Size of training set 4:  5150\n",
      "Size of training set 5:  537\n",
      "Size of test set:  113304\n"
     ]
    }
   ],
   "source": [
    "#Display number of instances in each subset:\n",
    "print(\"Size of training set: \", train1.count())\n",
    "print(\"Size of training set 2: \", train2.count())\n",
    "print(\"Size of training set 3: \", train3.count())\n",
    "print(\"Size of training set 4: \", train4.count())\n",
    "print(\"Size of training set 5: \", train5.count())\n",
    "print(\"Size of test set: \", test.count())"
   ]
  },
  {
   "cell_type": "markdown",
   "metadata": {
    "deletable": true,
    "editable": true
   },
   "source": [
    "### 3. Experiment 1: comparing HashingTF vs. CountVectorizer for different vector lengths"
   ]
  },
  {
   "cell_type": "code",
   "execution_count": 11,
   "metadata": {
    "collapsed": false,
    "deletable": true,
    "editable": true
   },
   "outputs": [],
   "source": [
    "from pyspark.ml.linalg import Vector\n",
    "from pyspark.ml import Pipeline, PipelineModel\n",
    "from pyspark.ml.feature import StopWordsRemover,VectorAssembler, NGram, HashingTF, CountVectorizer, Tokenizer, IDF, StringIndexer\n",
    "from pyspark.ml.param import *\n",
    "from pyspark.ml.tuning import ParamGridBuilder, TrainValidationSplit\n",
    "from pyspark.ml.classification import LogisticRegression\n",
    "from pyspark.ml.evaluation import BinaryClassificationEvaluator\n",
    "\n",
    "#Construct the pipeline:\n",
    "def construct_pipeline(N):\n",
    "    #Remove stopwords, but preserve the word \"not\"\n",
    "    remover = StopWordsRemover().setInputCol(\"text\").setOutputCol(\"filtered\").setCaseSensitive(False)\n",
    "    stopwordlist = remover.getStopWords()\n",
    "    stopwordlist.remove('not')\n",
    "    remover.setStopWords(stopwordlist)\n",
    "\n",
    "    #Use HashingTF to hash the n-grams into a feature vector:\n",
    "    hashing = HashingTF(numFeatures=N, inputCol=\"filtered\", outputCol=\"tf\")\n",
    "\n",
    "    #Compare HashingTF vs. CountVectorizer:\n",
    "    cv = CountVectorizer(vocabSize=N, inputCol=\"filtered\", outputCol=\"tf\")\n",
    "\n",
    "    #We use IDF to rescale the feature vectors; this generally improves performance when using text as features.\n",
    "    idf = IDF(inputCol='tf', outputCol=\"features\", minDocFreq=5) #minDocFreq: remove sparse terms\n",
    "\n",
    "    #Transforms the satisfied/unsatisfied label into classes 0 or 1:\n",
    "    label_stringIdx = StringIndexer(inputCol = \"score\", outputCol = \"label\")\n",
    "\n",
    "    #Logistic Regression:\n",
    "    lr = LogisticRegression().setElasticNetParam(0.0)\n",
    "\n",
    "    #Connect the stages:\n",
    "    #Pipeline 1: remove stopwords, hashing, idf, Logistic Regression\n",
    "    pipeline1 = Pipeline(stages=[remover, hashing, idf, label_stringIdx, lr])\n",
    "\n",
    "    #Pipeline 2: remove stopwords, use Count Vectorizer instead of hashing, idf, Logistic Regression\n",
    "    pipeline2 = Pipeline(stages=[remover, cv, idf, label_stringIdx, lr])\n",
    "\n",
    "    #Create parameter grid for parameter tuning:\n",
    "    paramGridLR = ParamGridBuilder().addGrid(lr.regParam, [0.3, 0.1, 0.01]).build()\n",
    "\n",
    "    #Divide the training data into train/validation, using 80% for training, 20% for validation.\n",
    "    #Unlike cross-validation, only splits once:\n",
    "    trainvalsplit1 = TrainValidationSplit(estimator=pipeline1,\n",
    "                               estimatorParamMaps=paramGridLR,\n",
    "                               evaluator=BinaryClassificationEvaluator(),\n",
    "                               trainRatio=0.8).setSeed(123)\n",
    "\n",
    "    trainvalsplit2 = TrainValidationSplit(estimator=pipeline2,\n",
    "                               estimatorParamMaps=paramGridLR,\n",
    "                               evaluator=BinaryClassificationEvaluator(),\n",
    "                               trainRatio=0.8).setSeed(123)\n",
    "    \n",
    "    return trainvalsplit1, trainvalsplit2"
   ]
  },
  {
   "cell_type": "code",
   "execution_count": 12,
   "metadata": {
    "collapsed": true,
    "deletable": true,
    "editable": true
   },
   "outputs": [],
   "source": [
    "tvs1, tvs2 = construct_pipeline(2**10)"
   ]
  },
  {
   "cell_type": "code",
   "execution_count": 13,
   "metadata": {
    "collapsed": false,
    "deletable": true,
    "editable": true
   },
   "outputs": [
    {
     "name": "stdout",
     "output_type": "stream",
     "text": [
      "CPU times: user 400 ms, sys: 124 ms, total: 524 ms\n",
      "Wall time: 34min 15s\n"
     ]
    }
   ],
   "source": [
    "%%time\n",
    "# Fit the pipeline to the subset of training data to create a model for making predictions on the test set.\n",
    "model1 = tvs1.fit(train1)"
   ]
  },
  {
   "cell_type": "code",
   "execution_count": 14,
   "metadata": {
    "collapsed": false,
    "deletable": true,
    "editable": true
   },
   "outputs": [
    {
     "name": "stdout",
     "output_type": "stream",
     "text": [
      "CPU times: user 380 ms, sys: 180 ms, total: 560 ms\n",
      "Wall time: 42min 52s\n"
     ]
    }
   ],
   "source": [
    "%%time\n",
    "model2 = tvs2.fit(train1)"
   ]
  },
  {
   "cell_type": "code",
   "execution_count": 15,
   "metadata": {
    "collapsed": true,
    "deletable": true,
    "editable": true
   },
   "outputs": [],
   "source": [
    "tvs3, tvs4 = construct_pipeline(2**12)"
   ]
  },
  {
   "cell_type": "code",
   "execution_count": 16,
   "metadata": {
    "collapsed": false,
    "deletable": true,
    "editable": true
   },
   "outputs": [
    {
     "name": "stdout",
     "output_type": "stream",
     "text": [
      "CPU times: user 360 ms, sys: 148 ms, total: 508 ms\n",
      "Wall time: 33min 12s\n"
     ]
    }
   ],
   "source": [
    "%%time\n",
    "model3 = tvs3.fit(train1)"
   ]
  },
  {
   "cell_type": "code",
   "execution_count": 17,
   "metadata": {
    "collapsed": false,
    "deletable": true,
    "editable": true
   },
   "outputs": [
    {
     "name": "stdout",
     "output_type": "stream",
     "text": [
      "CPU times: user 400 ms, sys: 156 ms, total: 556 ms\n",
      "Wall time: 42min 19s\n"
     ]
    }
   ],
   "source": [
    "%%time\n",
    "model4 = tvs4.fit(train1)"
   ]
  },
  {
   "cell_type": "code",
   "execution_count": 18,
   "metadata": {
    "collapsed": true,
    "deletable": true,
    "editable": true
   },
   "outputs": [],
   "source": [
    "tvs5, tvs6 = construct_pipeline(2**13)"
   ]
  },
  {
   "cell_type": "code",
   "execution_count": 19,
   "metadata": {
    "collapsed": false,
    "deletable": true,
    "editable": true
   },
   "outputs": [
    {
     "name": "stdout",
     "output_type": "stream",
     "text": [
      "CPU times: user 320 ms, sys: 152 ms, total: 472 ms\n",
      "Wall time: 33min 48s\n"
     ]
    }
   ],
   "source": [
    "%%time\n",
    "model5 = tvs5.fit(train1)"
   ]
  },
  {
   "cell_type": "code",
   "execution_count": 20,
   "metadata": {
    "collapsed": false,
    "deletable": true,
    "editable": true
   },
   "outputs": [
    {
     "name": "stdout",
     "output_type": "stream",
     "text": [
      "CPU times: user 388 ms, sys: 136 ms, total: 524 ms\n",
      "Wall time: 42min 23s\n"
     ]
    }
   ],
   "source": [
    "%%time\n",
    "model6 = tvs6.fit(train1)"
   ]
  },
  {
   "cell_type": "code",
   "execution_count": 21,
   "metadata": {
    "collapsed": false,
    "deletable": true,
    "editable": true
   },
   "outputs": [
    {
     "name": "stdout",
     "output_type": "stream",
     "text": [
      "Model 1: \n",
      "Best Regularization:  0.01\n",
      "Best Elastic Net:  0.0\n",
      "Model 2: \n",
      "Best Regularization:  0.01\n",
      "Best Elastic Net:  0.0\n",
      "Model 3: \n",
      "Best Regularization:  0.01\n",
      "Best Elastic Net:  0.0\n",
      "Model 4: \n",
      "Best Regularization:  0.01\n",
      "Best Elastic Net:  0.0\n",
      "Model 5: \n",
      "Best Regularization:  0.01\n",
      "Best Elastic Net:  0.0\n",
      "Model 6: \n",
      "Best Regularization:  0.01\n",
      "Best Elastic Net:  0.0\n"
     ]
    }
   ],
   "source": [
    "# Find the best set of parameters:\n",
    "print(\"Model 1: \")\n",
    "print(\"Best Regularization: \", model1.bestModel.stages[-1]._java_obj.getRegParam())\n",
    "print(\"Best Elastic Net: \", model1.bestModel.stages[-1]._java_obj.getElasticNetParam())\n",
    "print(\"Model 2: \")\n",
    "print(\"Best Regularization: \", model2.bestModel.stages[-1]._java_obj.getRegParam())\n",
    "print(\"Best Elastic Net: \", model2.bestModel.stages[-1]._java_obj.getElasticNetParam())\n",
    "print(\"Model 3: \")\n",
    "print(\"Best Regularization: \", model3.bestModel.stages[-1]._java_obj.getRegParam())\n",
    "print(\"Best Elastic Net: \", model3.bestModel.stages[-1]._java_obj.getElasticNetParam())\n",
    "print(\"Model 4: \")\n",
    "print(\"Best Regularization: \", model4.bestModel.stages[-1]._java_obj.getRegParam())\n",
    "print(\"Best Elastic Net: \", model4.bestModel.stages[-1]._java_obj.getElasticNetParam())\n",
    "print(\"Model 5: \")\n",
    "print(\"Best Regularization: \", model5.bestModel.stages[-1]._java_obj.getRegParam())\n",
    "print(\"Best Elastic Net: \", model5.bestModel.stages[-1]._java_obj.getElasticNetParam())\n",
    "print(\"Model 6: \")\n",
    "print(\"Best Regularization: \", model6.bestModel.stages[-1]._java_obj.getRegParam())\n",
    "print(\"Best Elastic Net: \", model6.bestModel.stages[-1]._java_obj.getElasticNetParam())"
   ]
  },
  {
   "cell_type": "code",
   "execution_count": 22,
   "metadata": {
    "collapsed": false,
    "deletable": true,
    "editable": true
   },
   "outputs": [],
   "source": [
    "#Returns a confusion matrix and various classification metrics given predictions on the test set.\n",
    "import numpy as np\n",
    "\n",
    "def eval_metrics(pred):\n",
    "    C = np.empty([2,2])\n",
    "    C[0,0] = pred.filter((pred.label == 0) & (pred.prediction == 0)).count()\n",
    "    C[0,1] = pred.filter((pred.label == 0) & (pred.prediction == 1)).count()\n",
    "    C[1,0] = pred.filter((pred.label == 1) & (pred.prediction == 0)).count()\n",
    "    C[1,1] = pred.filter((pred.label == 1) & (pred.prediction == 1)).count()\n",
    "    sumC = C.sum()\n",
    "    accuracy = (C[0,0] + C[1,1])/sumC\n",
    "    precision = C[1,1]/(C[1,1] + C[0,1])\n",
    "    recall = C[1,1]/(C[1,1] + C[1,0])\n",
    "    F1score = 2*(precision*recall)/(precision+recall)\n",
    "    return C, accuracy, precision, recall, F1score\n",
    "\n",
    "#Prints results on the test set:\n",
    "def print_results(myModel):\n",
    "    predictions = myModel.transform(test)\n",
    "    C, acc, prec, rec, f1score = eval_metrics(predictions)\n",
    "    print(\"Confusion matrix: \", \"\\n\", C)\n",
    "    print(\"Accuracy: {0:.4f}\".format(acc))\n",
    "    print(\"Precision: {0:.4f}\".format(prec))\n",
    "    print(\"Recall: {0:.4f}\".format(rec))\n",
    "    print(\"F1 score: {0:.4f}\".format(f1score))\n",
    "    print(\"ROC-AUC: {0:.4f}\".format(evaluator.evaluate(predictions)), \"\\n\")\n",
    "    \n",
    "#Prints results on the training set:\n",
    "def print_training_results(myModel, myTrain):\n",
    "    predictions = myModel.transform(myTrain)\n",
    "    C, acc, prec, rec, f1score = eval_metrics(predictions)\n",
    "    print(\"Confusion matrix: \", \"\\n\", C)\n",
    "    print(\"Accuracy: {0:.4f}\".format(acc))\n",
    "    print(\"Precision: {0:.4f}\".format(prec))\n",
    "    print(\"Recall: {0:.4f}\".format(rec))\n",
    "    print(\"F1 score: {0:.4f}\".format(f1score))\n",
    "    print(\"ROC-AUC: {0:.4f}\".format(evaluator.evaluate(predictions)), \"\\n\")"
   ]
  },
  {
   "cell_type": "code",
   "execution_count": 23,
   "metadata": {
    "collapsed": false,
    "deletable": true,
    "editable": true
   },
   "outputs": [
    {
     "name": "stdout",
     "output_type": "stream",
     "text": [
      "Logistic Regression using Hashing Vectorizer, N = 1024\n",
      "Confusion matrix:  \n",
      " [[ 84497.   3705.]\n",
      " [ 14821.  10281.]]\n",
      "Accuracy: 0.8365\n",
      "Precision: 0.7351\n",
      "Recall: 0.4096\n",
      "F1 score: 0.5260\n",
      "ROC-AUC: 0.8614 \n",
      "\n",
      "Logistic Regression using Count Vectorizer, N = 1024\n",
      "Confusion matrix:  \n",
      " [[ 84953.   3249.]\n",
      " [ 12514.  12588.]]\n",
      "Accuracy: 0.8609\n",
      "Precision: 0.7948\n",
      "Recall: 0.5015\n",
      "F1 score: 0.6150\n",
      "ROC-AUC: 0.9000 \n",
      "\n",
      "Logistic Regression using Hashing Vectorizer, N = 4096\n",
      "Confusion matrix:  \n",
      " [[ 84677.   3525.]\n",
      " [ 11727.  13375.]]\n",
      "Accuracy: 0.8654\n",
      "Precision: 0.7914\n",
      "Recall: 0.5328\n",
      "F1 score: 0.6369\n",
      "ROC-AUC: 0.9014 \n",
      "\n",
      "Logistic Regression using Count Vectorizer, N = 4096\n",
      "Confusion matrix:  \n",
      " [[ 84990.   3212.]\n",
      " [ 10537.  14565.]]\n",
      "Accuracy: 0.8787\n",
      "Precision: 0.8193\n",
      "Recall: 0.5802\n",
      "F1 score: 0.6794\n",
      "ROC-AUC: 0.9189 \n",
      "\n",
      "Logistic Regression using Hashing Vectorizer, N = 8192\n",
      "Confusion matrix:  \n",
      " [[ 84641.   3561.]\n",
      " [ 10688.  14414.]]\n",
      "Accuracy: 0.8742\n",
      "Precision: 0.8019\n",
      "Recall: 0.5742\n",
      "F1 score: 0.6692\n",
      "ROC-AUC: 0.9113 \n",
      "\n",
      "Logistic Regression using Count Vectorizer, N = 8192\n",
      "Confusion matrix:  \n",
      " [[ 85034.   3168.]\n",
      " [  9873.  15229.]]\n",
      "Accuracy: 0.8849\n",
      "Precision: 0.8278\n",
      "Recall: 0.6067\n",
      "F1 score: 0.7002\n",
      "ROC-AUC: 0.9234 \n",
      "\n"
     ]
    }
   ],
   "source": [
    "evaluator=BinaryClassificationEvaluator(rawPredictionCol=\"rawPrediction\")\n",
    "print(\"Logistic Regression using Hashing Vectorizer, N = 1024\")\n",
    "print_results(model1)\n",
    "print(\"Logistic Regression using Count Vectorizer, N = 1024\")\n",
    "print_results(model2)\n",
    "print(\"Logistic Regression using Hashing Vectorizer, N = 4096\")\n",
    "print_results(model3)\n",
    "print(\"Logistic Regression using Count Vectorizer, N = 4096\")\n",
    "print_results(model4)\n",
    "print(\"Logistic Regression using Hashing Vectorizer, N = 8192\")\n",
    "print_results(model5)\n",
    "print(\"Logistic Regression using Count Vectorizer, N = 8192\")\n",
    "print_results(model6)"
   ]
  },
  {
   "cell_type": "markdown",
   "metadata": {
    "deletable": true,
    "editable": true
   },
   "source": [
    "### 4. Experiment 2: assessing the effect of adding bigrams"
   ]
  },
  {
   "cell_type": "code",
   "execution_count": 28,
   "metadata": {
    "collapsed": false,
    "deletable": true,
    "editable": true
   },
   "outputs": [],
   "source": [
    "#Pipeline 3: add bigrams, do not remove stopwords, as it creates fake bigrams:\n",
    "N = 2**13 #set N = 4096 per Experiment 1\n",
    "ngram_uni = NGram().setN(1).setInputCol(\"text\").setOutputCol(\"nGram1\")\n",
    "ngram_bi = NGram().setN(2).setInputCol(\"text\").setOutputCol(\"nGram2\")\n",
    "cv_uni = CountVectorizer(vocabSize=N, inputCol=\"nGram1\", outputCol=\"vector1\")\n",
    "cv_bi = CountVectorizer(vocabSize=N, inputCol=\"nGram2\", outputCol=\"vector2\")\n",
    "idf_uni = IDF(inputCol='vector1', outputCol=\"features1\", minDocFreq=5)\n",
    "idf_bi = IDF(inputCol='vector2', outputCol=\"features2\", minDocFreq=5)\n",
    "assembler = VectorAssembler(inputCols=[\"features1\", \"features2\"],outputCol=\"features\")\n",
    "label_stringIdx = StringIndexer(inputCol = \"score\", outputCol = \"label\")\n",
    "lr = LogisticRegression().setElasticNetParam(0.0)\n",
    "paramGridLR = ParamGridBuilder().addGrid(lr.regParam, [0.3, 0.1, 0.01]).build()\n",
    "pipeline3 = Pipeline(stages=[ngram_uni, ngram_bi, cv_uni, cv_bi, idf_uni, idf_bi, assembler, label_stringIdx, lr])\n",
    "\n",
    "tvs7 = TrainValidationSplit(estimator=pipeline3,\n",
    "                           estimatorParamMaps=paramGridLR,\n",
    "                           evaluator=BinaryClassificationEvaluator(),\n",
    "                           trainRatio=0.8).setSeed(123)"
   ]
  },
  {
   "cell_type": "code",
   "execution_count": 29,
   "metadata": {
    "collapsed": false,
    "deletable": true,
    "editable": true
   },
   "outputs": [
    {
     "name": "stdout",
     "output_type": "stream",
     "text": [
      "CPU times: user 468 ms, sys: 168 ms, total: 636 ms\n",
      "Wall time: 1h 16min 42s\n"
     ]
    }
   ],
   "source": [
    "%%time\n",
    "# Fit the pipeline to the training data to create a model for making predictions on the test set.\n",
    "model7 = tvs7.fit(train1)"
   ]
  },
  {
   "cell_type": "code",
   "execution_count": 30,
   "metadata": {
    "collapsed": false,
    "deletable": true,
    "editable": true
   },
   "outputs": [
    {
     "name": "stdout",
     "output_type": "stream",
     "text": [
      "Model 7: \n",
      "Best Regularization:  0.01\n",
      "Best Elastic Net:  0.0\n",
      "Logistic Regression using Count Vectorizer, N = 4096 with Bigrams\n",
      "Confusion matrix:  \n",
      " [[ 85136.   3066.]\n",
      " [  7565.  17537.]]\n",
      "Accuracy: 0.9062\n",
      "Precision: 0.8512\n",
      "Recall: 0.6986\n",
      "F1 score: 0.7674\n",
      "ROC-AUC: 0.9465 \n",
      "\n"
     ]
    }
   ],
   "source": [
    "print(\"Model 7: \")\n",
    "print(\"Best Regularization: \", model7.bestModel.stages[-1]._java_obj.getRegParam())\n",
    "print(\"Best Elastic Net: \", model7.bestModel.stages[-1]._java_obj.getElasticNetParam())\n",
    "print(\"Logistic Regression using Count Vectorizer, N = 8192 with Bigrams\")\n",
    "print_results(model7)"
   ]
  },
  {
   "cell_type": "markdown",
   "metadata": {
    "deletable": true,
    "editable": true
   },
   "source": [
    "### 5. Experiment 3: assessing the effect of different training set sizes\n",
    "\n",
    "For faster iteration, we set Elastic Net Param to 0 as this gives the best results in all previous cases."
   ]
  },
  {
   "cell_type": "code",
   "execution_count": 31,
   "metadata": {
    "collapsed": true,
    "deletable": true,
    "editable": true
   },
   "outputs": [],
   "source": [
    "lr = LogisticRegression().setElasticNetParam(0.0)\n",
    "paramGridLR = ParamGridBuilder().addGrid(lr.regParam, [0.3, 0.1, 0.01]).build()\n",
    "pipeline4 = Pipeline(stages=[ngram_uni, ngram_bi, cv_uni, cv_bi, idf_uni, idf_bi, assembler, label_stringIdx, lr])\n",
    "tvs8 = TrainValidationSplit(estimator=pipeline4,\n",
    "                           estimatorParamMaps=paramGridLR,\n",
    "                           evaluator=BinaryClassificationEvaluator(),\n",
    "                           trainRatio=0.8).setSeed(123)"
   ]
  },
  {
   "cell_type": "code",
   "execution_count": 20,
   "metadata": {
    "collapsed": false,
    "deletable": true,
    "editable": true
   },
   "outputs": [
    {
     "name": "stdout",
     "output_type": "stream",
     "text": [
      "CPU times: user 500 ms, sys: 184 ms, total: 684 ms\n",
      "Wall time: 1h 14min 49s\n"
     ]
    }
   ],
   "source": [
    "%%time\n",
    "# Fit the pipeline to the full training data.\n",
    "model8 = tvs8.fit(train1)"
   ]
  },
  {
   "cell_type": "code",
   "execution_count": 32,
   "metadata": {
    "collapsed": false,
    "deletable": true,
    "editable": true
   },
   "outputs": [
    {
     "name": "stdout",
     "output_type": "stream",
     "text": [
      "CPU times: user 576 ms, sys: 196 ms, total: 772 ms\n",
      "Wall time: 1h 11min 59s\n"
     ]
    }
   ],
   "source": [
    "%%time\n",
    "# Fit the pipeline to the 10% partition of training data.\n",
    "model9 = tvs8.fit(train2)"
   ]
  },
  {
   "cell_type": "code",
   "execution_count": 33,
   "metadata": {
    "collapsed": false,
    "deletable": true,
    "editable": true
   },
   "outputs": [
    {
     "name": "stdout",
     "output_type": "stream",
     "text": [
      "CPU times: user 684 ms, sys: 192 ms, total: 876 ms\n",
      "Wall time: 1h 15min 32s\n"
     ]
    }
   ],
   "source": [
    "%%time\n",
    "# Fit the pipeline to the 1% partition of training data.\n",
    "model10 = tvs8.fit(train3)"
   ]
  },
  {
   "cell_type": "code",
   "execution_count": 34,
   "metadata": {
    "collapsed": false,
    "deletable": true,
    "editable": true
   },
   "outputs": [
    {
     "name": "stdout",
     "output_type": "stream",
     "text": [
      "CPU times: user 688 ms, sys: 252 ms, total: 940 ms\n",
      "Wall time: 1h 15min 44s\n"
     ]
    }
   ],
   "source": [
    "%%time\n",
    "# Fit the pipeline to the 0.1% partition of training data.\n",
    "model11 = tvs8.fit(train4)"
   ]
  },
  {
   "cell_type": "code",
   "execution_count": 35,
   "metadata": {
    "collapsed": false,
    "deletable": true,
    "editable": true
   },
   "outputs": [
    {
     "name": "stdout",
     "output_type": "stream",
     "text": [
      "CPU times: user 832 ms, sys: 204 ms, total: 1.04 s\n",
      "Wall time: 1h 14min 55s\n"
     ]
    }
   ],
   "source": [
    "%%time\n",
    "# Fit the pipeline to the 0.01% partition of training data.\n",
    "model12 = tvs8.fit(train5)"
   ]
  },
  {
   "cell_type": "code",
   "execution_count": 36,
   "metadata": {
    "collapsed": true
   },
   "outputs": [],
   "source": [
    "model8 = model7"
   ]
  },
  {
   "cell_type": "code",
   "execution_count": 37,
   "metadata": {
    "collapsed": false,
    "deletable": true,
    "editable": true
   },
   "outputs": [
    {
     "name": "stdout",
     "output_type": "stream",
     "text": [
      "Model 8, n = 396,137:\n",
      "Best Regularization:  0.01\n",
      "Best Elastic Net:  0.0\n",
      "Confusion matrix:  \n",
      " [[ 85136.   3066.]\n",
      " [  7565.  17537.]]\n",
      "Accuracy: 0.9062\n",
      "Precision: 0.8512\n",
      "Recall: 0.6986\n",
      "F1 score: 0.7674\n",
      "ROC-AUC: 0.9465 \n",
      "\n",
      "Model 9, n = 39,434:\n",
      "Best Regularization:  0.3\n",
      "Best Elastic Net:  0.0\n",
      "Confusion matrix:  \n",
      " [[ 86987.   1215.]\n",
      " [ 15110.   9992.]]\n",
      "Accuracy: 0.8559\n",
      "Precision: 0.8916\n",
      "Recall: 0.3981\n",
      "F1 score: 0.5504\n",
      "ROC-AUC: 0.9207 \n",
      "\n",
      "Model 10, n = 11,376:\n",
      "Best Regularization:  0.3\n",
      "Best Elastic Net:  0.0\n",
      "Confusion matrix:  \n",
      " [[ 86924.   1278.]\n",
      " [ 16826.   8276.]]\n",
      "Accuracy: 0.8402\n",
      "Precision: 0.8662\n",
      "Recall: 0.3297\n",
      "F1 score: 0.4776\n",
      "ROC-AUC: 0.8942 \n",
      "\n",
      "Model 11, n = 5,150:\n",
      "Best Regularization:  0.3\n",
      "Best Elastic Net:  0.0\n",
      "Confusion matrix:  \n",
      " [[ 87008.   1194.]\n",
      " [ 18288.   6814.]]\n",
      "Accuracy: 0.8281\n",
      "Precision: 0.8509\n",
      "Recall: 0.2715\n",
      "F1 score: 0.4116\n",
      "ROC-AUC: 0.8711 \n",
      "\n",
      "Model 12, n = 537:\n",
      "Best Regularization:  0.01\n",
      "Best Elastic Net:  0.0\n",
      "Confusion matrix:  \n",
      " [[ 80335.   7867.]\n",
      " [ 16510.   8592.]]\n",
      "Accuracy: 0.7849\n",
      "Precision: 0.5220\n",
      "Recall: 0.3423\n",
      "F1 score: 0.4135\n",
      "ROC-AUC: 0.7481 \n",
      "\n"
     ]
    }
   ],
   "source": [
    "evaluator=BinaryClassificationEvaluator(rawPredictionCol=\"rawPrediction\")\n",
    "print(\"Model 8, n = 396,137:\")\n",
    "print(\"Best Regularization: \", model8.bestModel.stages[-1]._java_obj.getRegParam())\n",
    "print(\"Best Elastic Net: \", model8.bestModel.stages[-1]._java_obj.getElasticNetParam())\n",
    "print_results(model8)\n",
    "print(\"Model 9, n = 39,434:\")\n",
    "print(\"Best Regularization: \", model9.bestModel.stages[-1]._java_obj.getRegParam())\n",
    "print(\"Best Elastic Net: \", model9.bestModel.stages[-1]._java_obj.getElasticNetParam())\n",
    "print_results(model9)\n",
    "print(\"Model 10, n = 11,376:\")\n",
    "print(\"Best Regularization: \", model10.bestModel.stages[-1]._java_obj.getRegParam())\n",
    "print(\"Best Elastic Net: \", model10.bestModel.stages[-1]._java_obj.getElasticNetParam())\n",
    "print_results(model10)\n",
    "print(\"Model 11, n = 5,150:\")\n",
    "print(\"Best Regularization: \", model11.bestModel.stages[-1]._java_obj.getRegParam())\n",
    "print(\"Best Elastic Net: \", model11.bestModel.stages[-1]._java_obj.getElasticNetParam())\n",
    "print_results(model11)\n",
    "print(\"Model 12, n = 537:\")\n",
    "print(\"Best Regularization: \", model12.bestModel.stages[-1]._java_obj.getRegParam())\n",
    "print(\"Best Elastic Net: \", model12.bestModel.stages[-1]._java_obj.getElasticNetParam())\n",
    "print_results(model12)"
   ]
  },
  {
   "cell_type": "markdown",
   "metadata": {
    "deletable": true,
    "editable": true
   },
   "source": [
    "This prints training results for the various training sets."
   ]
  },
  {
   "cell_type": "code",
   "execution_count": 38,
   "metadata": {
    "collapsed": false,
    "deletable": true,
    "editable": true
   },
   "outputs": [
    {
     "name": "stdout",
     "output_type": "stream",
     "text": [
      "Model 8, n = 396,137:\n",
      "Confusion matrix:  \n",
      " [[ 300388.    8343.]\n",
      " [  23244.   64162.]]\n",
      "Accuracy: 0.9203\n",
      "Precision: 0.8849\n",
      "Recall: 0.7341\n",
      "F1 score: 0.8025\n",
      "ROC-AUC: 0.9639 \n",
      "\n",
      "Model 9, n = 39,434:\n",
      "Confusion matrix:  \n",
      " [[ 30409.    152.]\n",
      " [  4285.   4588.]]\n",
      "Accuracy: 0.8875\n",
      "Precision: 0.9679\n",
      "Recall: 0.5171\n",
      "F1 score: 0.6741\n",
      "ROC-AUC: 0.9739 \n",
      "\n",
      "Model 10, n = 11,376:\n",
      "Confusion matrix:  \n",
      " [[ 8804.    17.]\n",
      " [  937.  1618.]]\n",
      "Accuracy: 0.9161\n",
      "Precision: 0.9896\n",
      "Recall: 0.6333\n",
      "F1 score: 0.7723\n",
      "ROC-AUC: 0.9911 \n",
      "\n",
      "Model 11, n = 5,150:\n",
      "Confusion matrix:  \n",
      " [[  4.03100000e+03   1.00000000e+00]\n",
      " [  3.98000000e+02   7.20000000e+02]]\n",
      "Accuracy: 0.9225\n",
      "Precision: 0.9986\n",
      "Recall: 0.6440\n",
      "F1 score: 0.7830\n",
      "ROC-AUC: 0.9944 \n",
      "\n",
      "Model 12, n = 537:\n",
      "Confusion matrix:  \n",
      " [[ 412.    0.]\n",
      " [   2.  123.]]\n",
      "Accuracy: 0.9963\n",
      "Precision: 1.0000\n",
      "Recall: 0.9840\n",
      "F1 score: 0.9919\n",
      "ROC-AUC: 1.0000 \n",
      "\n"
     ]
    }
   ],
   "source": [
    "print(\"Model 8, n = 396,137:\")\n",
    "print_training_results(model8, train1)\n",
    "print(\"Model 9, n = 39,434:\")\n",
    "print_training_results(model9, train2)\n",
    "print(\"Model 10, n = 11,376:\")\n",
    "print_training_results(model10, train3)\n",
    "print(\"Model 11, n = 5,150:\")\n",
    "print_training_results(model11, train4)\n",
    "print(\"Model 12, n = 537:\")\n",
    "print_training_results(model12, train5)"
   ]
  },
  {
   "cell_type": "markdown",
   "metadata": {
    "collapsed": true,
    "deletable": true,
    "editable": true
   },
   "source": [
    "### Appendix: optional cells to run to display various plots"
   ]
  },
  {
   "cell_type": "code",
   "execution_count": null,
   "metadata": {
    "collapsed": true
   },
   "outputs": [],
   "source": [
    "import pandas as pd\n",
    "from pyspark.mllib.evaluation import BinaryClassificationMetrics\n",
    "from sklearn.metrics import roc_curve,auc\n",
    "%matplotlib inline\n",
    "import matplotlib.pyplot as plt\n",
    "\n",
    "trainingSummary6 = model6.bestModel.transform(test)\n",
    "model6results = trainingSummary6.select(\"probability\", \"label\").toPandas()\n",
    "trainingSummary7 = model7.bestModel.transform(test)\n",
    "model7results = trainingSummary7.select(\"probability\",\"label\").toPandas()\n",
    "\n",
    "# ROC\n",
    "prob6 = model6results[\"probability\"]\n",
    "prob = prob6.map(lambda x: x[1])\n",
    "labels = np.array(model6results['label'])\n",
    "fpr2, tpr2, thresholds2 = roc_curve(labels, prob);\n",
    "roc_auc2 = auc(fpr2, tpr2)\n",
    "prob7 = model7results[\"probability\"]\n",
    "prob7 = prob7.map(lambda x: x[1])\n",
    "labels7 = np.array(model7results['label'])\n",
    "fpr7, tpr7, thresholds7 = roc_curve(labels7, prob7);\n",
    "roc_auc7 = auc(fpr7, tpr7)\n",
    "\n",
    "# PLOT\n",
    "plt.figure(figsize=(5,5))\n",
    "plt.plot(fpr2, tpr2, label='ROC, unigram only (area = %0.2f)' % roc_auc2)\n",
    "plt.plot(fpr7, tpr7, label='ROC, uni + bigrams (area = %0.2f)' % roc_auc7)\n",
    "plt.xlim([0.0, 1.0])\n",
    "plt.ylim([0.0, 1.05])\n",
    "plt.xlabel('False Positive Rate')\n",
    "plt.ylabel('True Positive Rate')\n",
    "plt.title('Experiment 2: ROC Curve')\n",
    "plt.legend(loc=\"lower right\")\n",
    "plt.show()"
   ]
  },
  {
   "cell_type": "code",
   "execution_count": null,
   "metadata": {
    "collapsed": true,
    "deletable": true,
    "editable": true
   },
   "outputs": [],
   "source": [
    "#Plot the number of each score:\n",
    "%matplotlib inline\n",
    "import matplotlib.pyplot as plt\n",
    "import numpy as np\n",
    "score_count = [review_data.filter(lambda x: x[0] == i).count() for i in labels]\n",
    "scores = np.arange(1,6)\n",
    "plt.bar(scores, score_count)\n",
    "plt.xlabel('Review score')\n",
    "plt.ylabel('Number of reviews')\n",
    "plt.xticks(scores+0.5, labels)\n",
    "plt.title('Number of reviews for each rating')\n",
    "plt.show()"
   ]
  },
  {
   "cell_type": "code",
   "execution_count": null,
   "metadata": {
    "collapsed": true,
    "deletable": true,
    "editable": true
   },
   "outputs": [],
   "source": [
    "from nltk.corpus import stopwords\n",
    "nltk_words = list(stopwords.words('english'))\n",
    "nltk_words.extend([\"br\", \"\", \"nt\"])\n",
    "nltk_words.remove(\"not\")\n",
    "\n",
    "from operator import add\n",
    "from functools import partial\n",
    "    \n",
    "def reGrpLst(idscorengram_count): # we get a nested tuple\n",
    "    id_ngram, count = idscorengram_count\n",
    "    id_no, ngram = id_ngram\n",
    "    return (id_no, [(ngram,count)]) \n",
    "\n",
    "def removeStops(tokenList): #Takes a list of tokens and removes stopwords\n",
    "    cleanList = [w for w in tokenList if not w in nltk_words]\n",
    "    return cleanList \n",
    "\n",
    "def splitScoreNGrams(scoreContent): # your splitting function \n",
    "    score,grams = scoreContent \n",
    "    scoreGramList = [] \n",
    "    for ngram in grams: \n",
    "        scoreGramList.append((score,ngram))\n",
    "    return scoreGramList \n",
    "\n",
    "def sumWordCount(wordCountList): #given a list of tuples, sum the second value\n",
    "    totalwords = 0\n",
    "    normalized_list = []\n",
    "    for word_count in wordCountList:\n",
    "        word, count = word_count\n",
    "        totalwords += count\n",
    "    for word_count in wordCountList:\n",
    "        word, count = word_count\n",
    "        count = count/totalwords\n",
    "        normalized_list.append((word, count))\n",
    "    return normalized_list\n",
    "\n",
    "rdd1 = review_data.map(lambda x: (x[0], removeStops(x[1]))) \n",
    "rdd2 = rdd1.flatMap(partial(lambda x: splitScoreNGrams(x)))\n",
    "rdd3 = rdd2.map(lambda x: (x, 1)) #Append 1 to each tuple\n",
    "rdd4 = rdd3.reduceByKey(add) #Sum by ngram\n",
    "rdd5 = rdd4.map(reGrpLst) #Regroup to (score, [word, count])\n",
    "rdd6 = rdd5.reduceByKey(add) #Sum by score\n",
    "rdd7 = rdd6.map(lambda y: (y[0], sorted(y[1], key=lambda x: x[1], reverse=True)))\n",
    "rdd8 = rdd7.map(lambda x: (x[0], sumWordCount(x[1])))\n",
    "rdd9 = rdd8.map(lambda x: (x[0], x[1][:10])) #Keep the first 10 words of each score\n",
    "rdd9.take(5)"
   ]
  },
  {
   "cell_type": "code",
   "execution_count": 40,
   "metadata": {
    "collapsed": false,
    "deletable": true,
    "editable": true
   },
   "outputs": [],
   "source": [
    "n = [396137, 39434, 11376, 5150, 537]\n",
    "trg_acc = [.9203, .8875, .9161, .9225, .9963]\n",
    "test_acc = [.906, .8559, .8402, .828, .7849]\n",
    "trg_auc = [.9639, .9739, .9911, .9944, 1]\n",
    "test_auc = [.947, .921, .8942, .8714, .7481]"
   ]
  },
  {
   "cell_type": "code",
   "execution_count": 41,
   "metadata": {
    "collapsed": false,
    "deletable": true,
    "editable": true
   },
   "outputs": [
    {
     "data": {
      "image/png": "[encoded data removed]",
      "text/plain": [
       "<matplotlib.figure.Figure at 0x7fa54c0ed898>"
      ]
     },
     "metadata": {},
     "output_type": "display_data"
    }
   ],
   "source": [
    "%matplotlib inline\n",
    "import matplotlib.pyplot as plt\n",
    "plt.plot(n, trg_acc, label=\"Training accuracy\", linewidth=2)\n",
    "plt.plot(n, test_acc, label=\"Test accuracy\", linewidth=2)\n",
    "plt.xlabel(\"Size of training set\")\n",
    "plt.ylabel(\"Accuracy\")\n",
    "plt.title(\"Training and test accuracy vs. size of training set\")\n",
    "plt.legend(loc=\"lower right\")\n",
    "plt.xticks([0, 100000, 200000, 300000, 400000])\n",
    "plt.show()"
   ]
  },
  {
   "cell_type": "code",
   "execution_count": 42,
   "metadata": {
    "collapsed": false,
    "deletable": true,
    "editable": true
   },
   "outputs": [
    {
     "data": {
      "image/png": "[encoded data removed]",
      "text/plain": [
       "<matplotlib.figure.Figure at 0x7fa54c68bdd8>"
      ]
     },
     "metadata": {},
     "output_type": "display_data"
    }
   ],
   "source": [
    "plt.plot(n, trg_auc, label=\"Training AUC\", linewidth=2)\n",
    "plt.plot(n, test_auc, label=\"Test AUC\", linewidth=2)\n",
    "plt.xlabel(\"Size of training set\")\n",
    "plt.ylabel(\"AUC of ROC curve\")\n",
    "plt.title(\"Training and test AUC vs. size of training set\")\n",
    "plt.legend(loc=\"lower right\")\n",
    "plt.xticks([0, 100000, 200000, 300000, 400000])\n",
    "plt.show()"
   ]
  }
 ],
 "metadata": {
  "kernelspec": {
   "display_name": "Python 3",
   "language": "python",
   "name": "python3"
  },
  "language_info": {
   "codemirror_mode": {
    "name": "ipython",
    "version": 3
   },
   "file_extension": ".py",
   "mimetype": "text/x-python",
   "name": "python",
   "nbconvert_exporter": "python",
   "pygments_lexer": "ipython3",
   "version": "3.6.0"
  }
 },
 "nbformat": 4,
 "nbformat_minor": 2
}
